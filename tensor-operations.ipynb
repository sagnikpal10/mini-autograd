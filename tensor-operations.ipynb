{
 "cells": [
  {
   "cell_type": "markdown",
   "metadata": {},
   "source": [
    "### Forward Pass & Backward Pass (mini-autograd)"
   ]
  },
  {
   "cell_type": "code",
   "execution_count": 1,
   "metadata": {},
   "outputs": [
    {
     "name": "stdout",
     "output_type": "stream",
     "text": [
      "Forward Pass via custom autograd engine [[289.0, 4.0], [33196.84, 13924.0]]\n",
      "Back-propagation dh/da (Project) [[0.0, -64.0, 0.0], [0.0, 0.0, 1148.72]]\n"
     ]
    }
   ],
   "source": [
    "from autograd.tensor import Tensor\n",
    "from autograd.functions import pow\n",
    "\n",
    "a = Tensor([[1, 2, 3], [4, 5, 6]], requires_grad=True)\n",
    "b = Tensor([[10, 20, 30], [41, 51, 61]], requires_grad=True)\n",
    "c = a + b\n",
    "d = Tensor([[1, 2, 1], [1, 1, 2]], requires_grad=True)\n",
    "e = c * d - a\n",
    "f = Tensor([[-1.0, 1.0], [2.0, -1.0], [-1.9, 1.0]], requires_grad=True)\n",
    "h = pow(e @ f, 2)\n",
    "h.backward(Tensor([[-1.0, 1.0], [2.0, -1.0]]))\n",
    "result = [[round(float(x), 3) for x in row ] for row in h.data]\n",
    "da = [[round(float(x), 3) for x in row ] for row in a.grad.data]\n",
    "\n",
    "print(\"Forward Pass via custom autograd engine\", result)\n",
    "print(\"Back-propagation dh/da (Project)\", da)\n"
   ]
  },
  {
   "cell_type": "markdown",
   "metadata": {},
   "source": [
    "### Forward Pass & Backward Pass (PyTorch)"
   ]
  },
  {
   "cell_type": "code",
   "execution_count": 2,
   "metadata": {},
   "outputs": [
    {
     "name": "stdout",
     "output_type": "stream",
     "text": [
      "Forward Pass via PyTorch [[289.0, 4.0], [33196.84, 13924.0]]\n",
      "Back-propagation dh/da (PyTorch) [[0.0, -64.0, 0.0], [0.0, 0.0, 1148.72]]\n"
     ]
    }
   ],
   "source": [
    "from torch import tensor\n",
    "from torch import pow\n",
    "\n",
    "a_ = tensor([[1.0, 2.0, 3.0], [4.0, 5.0, 6.0]], requires_grad=True)\n",
    "b_ = tensor([[10.0, 20.0, 30.0], [41.0, 51.0, 61.0]], requires_grad=True)\n",
    "c_ = a_ + b_\n",
    "d_ = tensor([[1.0, 2.0, 1.0], [1.0, 1.0, 2.0]], requires_grad=True)\n",
    "e_ = c_ * d_ - a_\n",
    "f_ = tensor([[-1.0, 1.0], [2.0, -1.0], [-1.9, 1.0]], requires_grad=True)\n",
    "h_ = pow(e_ @ f_, 2)\n",
    "h_.backward(tensor([[-1.0, 1.0], [2.0, -1.0]]))\n",
    "result = [[round(float(x), 3) for x in row ] for row in h_.data]\n",
    "da = [[round(float(x), 3) for x in row ] for row in a_.grad.data]\n",
    "\n",
    "print(\"Forward Pass via PyTorch\", result)\n",
    "print(\"Back-propagation dh/da (PyTorch)\", da)"
   ]
  },
  {
   "cell_type": "markdown",
   "metadata": {},
   "source": [
    "#### Gradient (for tensor 'c')"
   ]
  },
  {
   "cell_type": "code",
   "execution_count": 3,
   "metadata": {},
   "outputs": [
    {
     "data": {
      "text/plain": [
       "<Tensor (data=[[   30.    -128.      60.6 ]\n",
       " [  492.8  -1221.6   2297.44]], requires_grad=False, shape=(2, 3)), grad_fn=[], grad=None>"
      ]
     },
     "execution_count": 3,
     "metadata": {},
     "output_type": "execute_result"
    }
   ],
   "source": [
    "c.grad"
   ]
  },
  {
   "cell_type": "code",
   "execution_count": null,
   "metadata": {},
   "outputs": [],
   "source": []
  },
  {
   "cell_type": "code",
   "execution_count": null,
   "metadata": {},
   "outputs": [],
   "source": []
  }
 ],
 "metadata": {
  "kernelspec": {
   "display_name": "venv-3.9.20",
   "language": "python",
   "name": "python3"
  },
  "language_info": {
   "codemirror_mode": {
    "name": "ipython",
    "version": 3
   },
   "file_extension": ".py",
   "mimetype": "text/x-python",
   "name": "python",
   "nbconvert_exporter": "python",
   "pygments_lexer": "ipython3",
   "version": "3.9.20"
  }
 },
 "nbformat": 4,
 "nbformat_minor": 2
}
